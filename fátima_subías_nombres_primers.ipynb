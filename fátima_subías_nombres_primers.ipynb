{
  "nbformat": 4,
  "nbformat_minor": 0,
  "metadata": {
    "colab": {
      "provenance": []
    },
    "kernelspec": {
      "name": "python3",
      "display_name": "Python 3"
    },
    "language_info": {
      "name": "python"
    }
  },
  "cells": [
    {
      "cell_type": "markdown",
      "source": [
        "nombres primers - versión reducida"
      ],
      "metadata": {
        "id": "LBCbxVmDaLxB"
      }
    },
    {
      "cell_type": "code",
      "execution_count": null,
      "metadata": {
        "id": "tsXHG57NaIgg"
      },
      "outputs": [],
      "source": [
        "from typing_extensions import NoReturn\n",
        "def primer(n):\n",
        "  for i in range (2,n**0,5):\n",
        "    if n%i == 0:\n",
        "      return False\n",
        "  return True"
      ]
    },
    {
      "cell_type": "markdown",
      "source": [
        "no hace falta que divida hasta n, puede hacerlo hasta nr (n reducido). Si es primo hasta la mitad, lo será siempre. \n",
        "También puede hacerse hasta la raíz de n."
      ],
      "metadata": {
        "id": "3UEI9aclcFUR"
      }
    },
    {
      "cell_type": "code",
      "source": [
        "for i in range(1000, 1100):\n",
        "  if primer(i):\n",
        "    print(i)"
      ],
      "metadata": {
        "id": "1sZYJGTHakpg",
        "colab": {
          "base_uri": "https://localhost:8080/"
        },
        "outputId": "ed2dd851-8c43-4c46-fa7d-c2f7952e42c7"
      },
      "execution_count": null,
      "outputs": [
        {
          "output_type": "stream",
          "name": "stdout",
          "text": [
            "1000\n",
            "1001\n",
            "1002\n",
            "1003\n",
            "1004\n",
            "1005\n",
            "1006\n",
            "1007\n",
            "1008\n",
            "1009\n",
            "1010\n",
            "1011\n",
            "1012\n",
            "1013\n",
            "1014\n",
            "1015\n",
            "1016\n",
            "1017\n",
            "1018\n",
            "1019\n",
            "1020\n",
            "1021\n",
            "1022\n",
            "1023\n",
            "1024\n",
            "1025\n",
            "1026\n",
            "1027\n",
            "1028\n",
            "1029\n",
            "1030\n",
            "1031\n",
            "1032\n",
            "1033\n",
            "1034\n",
            "1035\n",
            "1036\n",
            "1037\n",
            "1038\n",
            "1039\n",
            "1040\n",
            "1041\n",
            "1042\n",
            "1043\n",
            "1044\n",
            "1045\n",
            "1046\n",
            "1047\n",
            "1048\n",
            "1049\n",
            "1050\n",
            "1051\n",
            "1052\n",
            "1053\n",
            "1054\n",
            "1055\n",
            "1056\n",
            "1057\n",
            "1058\n",
            "1059\n",
            "1060\n",
            "1061\n",
            "1062\n",
            "1063\n",
            "1064\n",
            "1065\n",
            "1066\n",
            "1067\n",
            "1068\n",
            "1069\n",
            "1070\n",
            "1071\n",
            "1072\n",
            "1073\n",
            "1074\n",
            "1075\n",
            "1076\n",
            "1077\n",
            "1078\n",
            "1079\n",
            "1080\n",
            "1081\n",
            "1082\n",
            "1083\n",
            "1084\n",
            "1085\n",
            "1086\n",
            "1087\n",
            "1088\n",
            "1089\n",
            "1090\n",
            "1091\n",
            "1092\n",
            "1093\n",
            "1094\n",
            "1095\n",
            "1096\n",
            "1097\n",
            "1098\n",
            "1099\n"
          ]
        }
      ]
    }
  ]
}