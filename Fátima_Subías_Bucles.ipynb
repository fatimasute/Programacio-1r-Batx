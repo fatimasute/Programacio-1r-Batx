{
  "nbformat": 4,
  "nbformat_minor": 0,
  "metadata": {
    "colab": {
      "provenance": []
    },
    "kernelspec": {
      "name": "python3",
      "display_name": "Python 3"
    },
    "language_info": {
      "name": "python"
    }
  },
  "cells": [
    {
      "cell_type": "markdown",
      "source": [
        "Exercici 1) Imprimir els números entre el 5 i el 20, saltant de tres en tres."
      ],
      "metadata": {
        "id": "3Ak52Okduqp_"
      }
    },
    {
      "cell_type": "code",
      "execution_count": null,
      "metadata": {
        "colab": {
          "base_uri": "https://localhost:8080/"
        },
        "id": "2EJW1UGiuU2g",
        "outputId": "ed64c70f-44cb-4c25-dc52-fdc39e214c2a"
      },
      "outputs": [
        {
          "output_type": "stream",
          "name": "stdout",
          "text": [
            "5\n",
            "8\n",
            "11\n",
            "14\n",
            "17\n",
            "20\n"
          ]
        }
      ],
      "source": [
        "for i in range(5,21, 3):\n",
        "  print(i)"
      ]
    },
    {
      "cell_type": "markdown",
      "source": [
        "Exercici 2) Requerir a l'usuari que ingressi un nombre enter positiu i imprimir tots els números correlatius entre l'ingressat per l'usuari i un menys del doble d'aquest."
      ],
      "metadata": {
        "id": "k3hRqWDtvEi6"
      }
    },
    {
      "cell_type": "code",
      "source": [
        "nombre = int(input('Introdueix un nombre enter positiu: '))\n",
        "for i in range(nombre, nombre*2):\n",
        "  print(i)"
      ],
      "metadata": {
        "colab": {
          "base_uri": "https://localhost:8080/"
        },
        "id": "15pYYclMvvTF",
        "outputId": "f617e11f-fbc3-4457-c020-89f6fbb6b12b"
      },
      "execution_count": null,
      "outputs": [
        {
          "output_type": "stream",
          "name": "stdout",
          "text": [
            "Introdueix un nombre enter positiu: 5\n",
            "5\n",
            "6\n",
            "7\n",
            "8\n",
            "9\n"
          ]
        }
      ]
    },
    {
      "cell_type": "markdown",
      "source": [
        "Exercici 3) Sol·licitar a l'usuari que ingressi una frase i després imprimir un llistat de les vocals que apareixen en aquesta frase (sense repetir-les)."
      ],
      "metadata": {
        "id": "VXZXQdvywHUk"
      }
    },
    {
      "cell_type": "code",
      "source": [
        "oracio = input('Introdueix una oració: ')\n",
        "llista = []\n",
        "for i in ('aeiou'):\n",
        "  if i in oracio:\n",
        "    llista.append(i)\n",
        "\n",
        "print('Les vocals que hi ha en aquesta oració són:', llista)"
      ],
      "metadata": {
        "colab": {
          "base_uri": "https://localhost:8080/"
        },
        "id": "LpuFSq1YxrCQ",
        "outputId": "0c1d90ca-a9e9-4918-d007-37ed9131fefc"
      },
      "execution_count": null,
      "outputs": [
        {
          "output_type": "stream",
          "name": "stdout",
          "text": [
            "Introdueix una oració: hoolaaaa\n",
            "['a', 'o']\n"
          ]
        }
      ]
    },
    {
      "cell_type": "markdown",
      "source": [
        "Exercici 4) Sol·licitar a l'usuari que ingressi una frase i després imprimir la quantitat de vocals que es troben en aquesta frase."
      ],
      "metadata": {
        "id": "t7tDEwzNyfl9"
      }
    },
    {
      "cell_type": "code",
      "source": [
        "oracio = input('Introdueix una oració: ')\n",
        "comptador = 0\n",
        "for i in ('aeiou'):\n",
        "  for j in oracio:\n",
        "    if j == i:\n",
        "      comptador+=1\n",
        "\n",
        "print('La quantitat de vocals que hi ha en aquesta oració són', comptador)"
      ],
      "metadata": {
        "colab": {
          "base_uri": "https://localhost:8080/"
        },
        "id": "VsW18qPJytEZ",
        "outputId": "d0621864-761d-42de-ded3-d16e116c79b2"
      },
      "execution_count": null,
      "outputs": [
        {
          "output_type": "stream",
          "name": "stdout",
          "text": [
            "Introdueix una oració: una dos tresese\n",
            "La quantitat de vocals que hi ha en aquesta oració són 6\n"
          ]
        }
      ]
    },
    {
      "cell_type": "markdown",
      "source": [
        "Exercici 5) Escriure un programa que mostri la sumatòria de tots els números entre el 0 i el 100."
      ],
      "metadata": {
        "id": "erRS4Z_mzfWd"
      }
    },
    {
      "cell_type": "code",
      "source": [
        "suma=0\n",
        "for i in range(1, 101):\n",
        "  suma=suma+i\n",
        "\n",
        "print(suma)"
      ],
      "metadata": {
        "colab": {
          "base_uri": "https://localhost:8080/"
        },
        "id": "vht0LU_8zk-y",
        "outputId": "ff257f58-6ac1-4788-e5d0-7b758f878d64"
      },
      "execution_count": null,
      "outputs": [
        {
          "output_type": "stream",
          "name": "stdout",
          "text": [
            "5050\n"
          ]
        }
      ]
    },
    {
      "cell_type": "markdown",
      "source": [
        "Exercici 6) Escriure un programa que mostri la sumatòria de tots els múltiples de 3 trobats entre el 0 i el 100."
      ],
      "metadata": {
        "id": "w_HQ1etetpat"
      }
    },
    {
      "cell_type": "code",
      "source": [
        "mult = 0\n",
        "for i in range(0, 101):\n",
        "  if i%3==0:\n",
        "    mult = mult + i\n",
        "print('La sumatòria de tots els múltiples de 3 trobats entre el 0 i el 100 és', mult)"
      ],
      "metadata": {
        "id": "zc9tV8b6t4MN",
        "colab": {
          "base_uri": "https://localhost:8080/"
        },
        "outputId": "c2be6828-bef2-4ea6-c3d3-99c9262c9bc9"
      },
      "execution_count": null,
      "outputs": [
        {
          "output_type": "stream",
          "name": "stdout",
          "text": [
            "La sumatòria de tots els múltiples de 3 trobats entre el 0 i el 100 és 1683\n"
          ]
        }
      ]
    },
    {
      "cell_type": "markdown",
      "source": [
        "Exercici 7) Donat un nombre enter positiu, mostrar el seu factorial. El factorial d'un número s'obté multiplicant tots els nombres enters positius que hi ha entre l'1 i aquest número.\n",
        "Exemple: numero introduït = 5\n",
        "El seu factorial sería 1*2*3*4*5 = 120"
      ],
      "metadata": {
        "id": "Qqik4otLu0JH"
      }
    },
    {
      "cell_type": "code",
      "source": [
        "nombre = int(input('Introdueix un nombre enter positiu:'))\n",
        "fact = 1\n",
        "print('El factorial del nombre introduït és ', end='')\n",
        "for i in range(1, nombre):\n",
        "  fact= fact * i\n",
        "  print(str(i)+'*', end='')\n",
        "print(nombre, '=', fact*nombre)\n"
      ],
      "metadata": {
        "id": "8HmFjGmku_Tn",
        "colab": {
          "base_uri": "https://localhost:8080/"
        },
        "outputId": "37e84f69-d5a2-49d9-8829-551b700ebd5c"
      },
      "execution_count": null,
      "outputs": [
        {
          "output_type": "stream",
          "name": "stdout",
          "text": [
            "Introdueix un nombre enter positiu:5\n",
            "El factorial del nombre introduït és 1*2*3*4*5 = 120\n"
          ]
        }
      ]
    },
    {
      "cell_type": "markdown",
      "source": [
        "Exercici 8) Crear un algorisme que mostri els primers 10 números de la successió de Fibonacci. La successió comença amb els números 0 i 1 i, a partir d&#39;aquests, cada element és la suma dels dos números anteriors a la seqüència: 0, 1, 1, 2, 3, 5, 8, 13, 21, 34, 55…"
      ],
      "metadata": {
        "id": "G586Q78Swoi_"
      }
    },
    {
      "cell_type": "code",
      "source": [
        "lista = []\n",
        "for i in range(2):\n",
        "  lista.append(i)\n",
        "\n",
        "for i in range(9):\n",
        "  suma = lista[i] + lista [i+1]\n",
        "  lista.append(suma)\n",
        "\n",
        "print('Els deu primers nombres de la successió de Fibonacci són:', lista)"
      ],
      "metadata": {
        "id": "N8vFb4GVxLmw",
        "colab": {
          "base_uri": "https://localhost:8080/"
        },
        "outputId": "04bc4baa-8d70-4264-a6bc-bd1f649e904d"
      },
      "execution_count": null,
      "outputs": [
        {
          "output_type": "stream",
          "name": "stdout",
          "text": [
            "Els deu primers nombres de la successió de Fibonacci són: [0, 1, 1, 2, 3, 5, 8, 13, 21, 34, 55]\n"
          ]
        }
      ]
    },
    {
      "cell_type": "markdown",
      "source": [
        "Exercici 9) Escriure un programa que permeti a l'usuari ingressar 6 nombres enters, que poden ser positius o negatius. En finalitzar, mostrar la sumatòria dels números negatius i la mitjana dels positius.\n",
        "No oblidis que no és possible dividir per zero, per la qual cosa és necessari evitar que el programa llanci un error si no es van ingressar números positius."
      ],
      "metadata": {
        "id": "RanKMrqdxLxB"
      }
    },
    {
      "cell_type": "code",
      "source": [
        "positius = []\n",
        "comptador = 0\n",
        "negatius = []\n",
        "suman = 0\n",
        "sumap = 0\n",
        "while True:\n",
        "  try:\n",
        "    n1 = int(input('Introdueix un nombre enter:'))\n",
        "    n2 = int(input('Introdueix un altre nombre enter:'))\n",
        "    n3 = int(input('Introdueix un altre nombre enter:'))\n",
        "    n4 = int(input('Introdueix un altre nombre enter:'))\n",
        "    n5 = int(input('Introdueix un altre nombre enter:'))\n",
        "    n6 = int(input('Introdueix un altre nombre enter:'))\n",
        "    variables = [n1, n2, n3, n4, n5, n6]\n",
        "    break\n",
        "  except:\n",
        "    print('Has d´introduir els nombres altre cop.')\n",
        "\n",
        "for i in variables:\n",
        "  if i < 0:\n",
        "    negatius.append(i)\n",
        "  else:\n",
        "    positius.append(i)\n",
        "    comptador+=1\n",
        "\n",
        "for i in negatius:\n",
        "  suman = suman + i\n",
        "for i in positius:\n",
        "  sumap = sumap + i\n",
        "\n",
        "if comptador>=1:\n",
        "  print('La suma dels teus nombres negatius és', suman, 'i la mitjana dels nombres positus és', sumap/comptador)\n",
        "else:\n",
        "  print('No has introduït nombres posotius, pel que no es podrà calcular cap mitjana. Però la suma dels teus nombres negatius és', suman)\n"
      ],
      "metadata": {
        "id": "_5AvCPKrxR2-",
        "colab": {
          "base_uri": "https://localhost:8080/"
        },
        "outputId": "9af1c287-1de7-4bf1-9750-7f8b43c1d9fe"
      },
      "execution_count": null,
      "outputs": [
        {
          "output_type": "stream",
          "name": "stdout",
          "text": [
            "Introdueix un nombre enter:2\n",
            "Introdueix un altre nombre enter:3\n",
            "Introdueix un altre nombre enter:4\n",
            "Introdueix un altre nombre enter:-5\n",
            "Introdueix un altre nombre enter:-4\n",
            "Introdueix un altre nombre enter:-3\n",
            "La suma dels teus nombres negatius és -12 i la mitjana dels nombres positus és 3.0\n"
          ]
        }
      ]
    },
    {
      "cell_type": "markdown",
      "source": [
        "Exercici 10) Escriu un programa que permeti xifrar els 5 missatges.\n",
        "El corriment (quantitat de llocs que es correran les lletres) serà donat per l’usuari abans de començar a encriptar. \n",
        "Els 5 missatges faran servir el mateix corriment.\n",
        "\n",
        "*En el programa he posat una funció que transformi els accents que hi ha al castellà en les vocals sense res, perquè també puguin ser encriptadas.*"
      ],
      "metadata": {
        "id": "g90osWzgxSHA"
      }
    },
    {
      "cell_type": "code",
      "source": [
        "abecedari = ['a', 'b', 'c', 'd', 'e', 'f', 'g', 'h', 'i', 'j', 'k', 'l', 'm', 'n', 'ñ', 'o', 'p', 'q', 'r', 's', 't', 'u', 'v', 'w', 'x', 'y', 'z']\n",
        "original = input('Introduce tu mensaje: ')\n",
        "trabajo = original.lower()\n",
        "salt = int(input('¿Cuál quieres que sea el corrimiento? '))\n",
        "def vocals(a):\n",
        "  text = a.replace('ó', 'o')\n",
        "  text = text.replace('á', 'a')\n",
        "  text = text.replace('í', 'i')\n",
        "  text = text.replace('é', 'e')\n",
        "  text = text.replace('ú', 'u')\n",
        "  text = text.replace('ü', 'u')\n",
        "  return text\n",
        "\n",
        "llista = list(vocals(trabajo))\n",
        "comptador=-1\n",
        "\n",
        "for j in llista:\n",
        "  comptador+=1\n",
        "  if j in abecedari:\n",
        "    encriptat = abecedari.index(j)\n",
        "    llista[comptador]=abecedari[(encriptat + salt)%27]\n",
        "\n",
        "final = ''.join(llista)\n",
        "print(final)\n"
      ],
      "metadata": {
        "id": "vuoLKx-a0WDV",
        "outputId": "bd764e4a-e467-4233-a30c-d36b6e506917",
        "colab": {
          "base_uri": "https://localhost:8080/"
        }
      },
      "execution_count": null,
      "outputs": [
        {
          "output_type": "stream",
          "name": "stdout",
          "text": [
            "Introduce tu mensaje: Hola, cómo estás?\n",
            "¿Cuál quieres que sea el corrimiento? 3\n",
            "krñd, fror hvwdv?\n"
          ]
        }
      ]
    },
    {
      "cell_type": "markdown",
      "source": [
        "Exercici 11) Escriure un programa que permeti a l&#39;usuari ingressar dos anys i després imprimeixi tots els anys en aquest rang, que siguin de traspàs i múltiples de 10.\n",
        "Nota: perquè un any sigui de traspàs ha de ser divisible per 4 i no ha de ser divisible per 100,\n",
        "excepte que també sigui divisible per 400."
      ],
      "metadata": {
        "id": "bUVz5svX0WTC"
      }
    },
    {
      "cell_type": "code",
      "source": [
        "any1 = int(input('Introdueix un any:'))\n",
        "any2 = int(input('Introdueix un altre any:'))\n",
        "\n",
        "for i in range(any1, any2+1):\n",
        "  if i%4 == 0 and i%100 != 0:\n",
        "    print(i)\n",
        "  elif i%400 == 0:\n",
        "    print(i)"
      ],
      "metadata": {
        "id": "l-VfTp6L0Ywt",
        "colab": {
          "base_uri": "https://localhost:8080/"
        },
        "outputId": "cae3c8f6-4f9a-4335-d1e5-3d8e18a38fc9"
      },
      "execution_count": null,
      "outputs": [
        {
          "output_type": "stream",
          "name": "stdout",
          "text": [
            "Introdueix un any:1899\n",
            "Introdueix un altre any:2401\n",
            "1904\n",
            "1908\n",
            "1912\n",
            "1916\n",
            "1920\n",
            "1924\n",
            "1928\n",
            "1932\n",
            "1936\n",
            "1940\n",
            "1944\n",
            "1948\n",
            "1952\n",
            "1956\n",
            "1960\n",
            "1964\n",
            "1968\n",
            "1972\n",
            "1976\n",
            "1980\n",
            "1984\n",
            "1988\n",
            "1992\n",
            "1996\n",
            "2000\n",
            "2004\n",
            "2008\n",
            "2012\n",
            "2016\n",
            "2020\n",
            "2024\n",
            "2028\n",
            "2032\n",
            "2036\n",
            "2040\n",
            "2044\n",
            "2048\n",
            "2052\n",
            "2056\n",
            "2060\n",
            "2064\n",
            "2068\n",
            "2072\n",
            "2076\n",
            "2080\n",
            "2084\n",
            "2088\n",
            "2092\n",
            "2096\n",
            "2104\n",
            "2108\n",
            "2112\n",
            "2116\n",
            "2120\n",
            "2124\n",
            "2128\n",
            "2132\n",
            "2136\n",
            "2140\n",
            "2144\n",
            "2148\n",
            "2152\n",
            "2156\n",
            "2160\n",
            "2164\n",
            "2168\n",
            "2172\n",
            "2176\n",
            "2180\n",
            "2184\n",
            "2188\n",
            "2192\n",
            "2196\n",
            "2204\n",
            "2208\n",
            "2212\n",
            "2216\n",
            "2220\n",
            "2224\n",
            "2228\n",
            "2232\n",
            "2236\n",
            "2240\n",
            "2244\n",
            "2248\n",
            "2252\n",
            "2256\n",
            "2260\n",
            "2264\n",
            "2268\n",
            "2272\n",
            "2276\n",
            "2280\n",
            "2284\n",
            "2288\n",
            "2292\n",
            "2296\n",
            "2304\n",
            "2308\n",
            "2312\n",
            "2316\n",
            "2320\n",
            "2324\n",
            "2328\n",
            "2332\n",
            "2336\n",
            "2340\n",
            "2344\n",
            "2348\n",
            "2352\n",
            "2356\n",
            "2360\n",
            "2364\n",
            "2368\n",
            "2372\n",
            "2376\n",
            "2380\n",
            "2384\n",
            "2388\n",
            "2392\n",
            "2396\n",
            "2400\n"
          ]
        }
      ]
    }
  ]
}