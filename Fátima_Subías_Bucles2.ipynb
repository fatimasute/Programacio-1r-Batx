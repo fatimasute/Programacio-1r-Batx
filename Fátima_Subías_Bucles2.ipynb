{
  "nbformat": 4,
  "nbformat_minor": 0,
  "metadata": {
    "colab": {
      "provenance": []
    },
    "kernelspec": {
      "name": "python3",
      "display_name": "Python 3"
    },
    "language_info": {
      "name": "python"
    }
  },
  "cells": [
    {
      "cell_type": "markdown",
      "source": [
        "Exercici 1) Escriure un programa que demani a l&#39;usuari un nombre enter i mostri per pantalla un\n",
        "triangle rectangle com el de més avall, d&#39;alçada el número introduït."
      ],
      "metadata": {
        "id": "ndyI_zRyvPZo"
      }
    },
    {
      "cell_type": "code",
      "source": [
        "nombre = int(input('Introdueix un nombre enter positiu: '))\n",
        "for i in range(nombre):\n",
        "  print('*'*(i+1))"
      ],
      "metadata": {
        "id": "BgFPfGRTvZFK"
      },
      "execution_count": null,
      "outputs": []
    },
    {
      "cell_type": "markdown",
      "source": [
        "Exercici 2) Escriure un programa que demani a l&#39;usuari un número enters més gran que 2 i\n",
        "mostri per pantalla si és un nombre primer o no."
      ],
      "metadata": {
        "id": "qYwbXwKSv56E"
      }
    },
    {
      "cell_type": "code",
      "source": [
        "while True:\n",
        "  try: \n",
        "    nombre = int(input('Introdueix un nombre més gran que 2: '))\n",
        "    if nombre > 2:\n",
        "      break\n",
        "    else: \n",
        "      print('Aquest nombre no val, introdueix un altre.')  \n",
        "  except:\n",
        "    print('Aquest nombre no és vàlid.')\n",
        "comptador = 0\n",
        "for i in range(1, nombre+1):\n",
        "  if nombre % i == 0:\n",
        "    comptador+=1\n",
        "  else:\n",
        "    continue\n",
        "if comptador <=2:\n",
        "  print('Aquest nombre és primer.')\n",
        "else:\n",
        "  print('Aquest nombre no és primer.')"
      ],
      "metadata": {
        "id": "v03K00RjwKcp",
        "outputId": "697d01bb-0a98-42e3-82bb-9cdb3263be91",
        "colab": {
          "base_uri": "https://localhost:8080/"
        }
      },
      "execution_count": null,
      "outputs": [
        {
          "output_type": "stream",
          "name": "stdout",
          "text": [
            "Introdueix un nombre més gran que 2: t\n",
            "Aquest nombre no és vàlid.\n",
            "Introdueix un nombre més gran que 2: 777\n",
            "Aquest nombre no és primer.\n"
          ]
        }
      ]
    },
    {
      "cell_type": "markdown",
      "source": [
        "Exercici 3) Escriure un programa que mostri el ressò de tot allò que l&#39;usuari introdueixi fins que\n",
        "l&#39;usuari escrigui “sortir” que s&#39;acabarà."
      ],
      "metadata": {
        "id": "ywoav9T0x712"
      }
    },
    {
      "cell_type": "code",
      "source": [
        "while True:\n",
        "  frase = input('Introdueix una frase: ')\n",
        "  if frase == '' or frase == ' ' or frase == 'sortir':\n",
        "    break\n",
        "  else:\n",
        "    print(frase)"
      ],
      "metadata": {
        "id": "3XWfPJh7yDdY"
      },
      "execution_count": null,
      "outputs": []
    },
    {
      "cell_type": "markdown",
      "source": [
        "Exercici 4) Escriviu un programa que demani un nombre enter més gran que zero i que escrigui\n",
        "els seus divisors."
      ],
      "metadata": {
        "id": "gP6FgKI2zivX"
      }
    },
    {
      "cell_type": "code",
      "source": [
        "while True:\n",
        "  try: \n",
        "    nombre = int(input('Introdueix un nombre més gran que zero: '))\n",
        "    if nombre!=0:\n",
        "      break\n",
        "    else:\n",
        "      print('Aquest nombre no és vàlid.')\n",
        "  except:\n",
        "    print('Aquest nombre no és vàlid.')\n",
        "\n",
        "divisors = []\n",
        "for i in range (1, nombre +1):\n",
        "  if nombre%i==0:\n",
        "    divisors.append(i)\n",
        "  else:\n",
        "    continue\n",
        "print('Els diviors de', nombre, 'són', divisors)\n"
      ],
      "metadata": {
        "id": "ojsacfZhzoM4"
      },
      "execution_count": null,
      "outputs": []
    },
    {
      "cell_type": "markdown",
      "source": [
        "Exercici 5 ) Escriviu un programa que pregunti quants números s&#39;introduiran, demaneu aquests\n",
        "números, si el número introduït no es més gran que l&#39;anterior, haurà de mostrar un\n",
        "missatge informant-nos del error i terminar donant-nos les gràcies, si sempre són\n",
        "major al introduir-los tots ens donarà les gràcies."
      ],
      "metadata": {
        "id": "Oq0Nbh96yRZu"
      }
    },
    {
      "cell_type": "code",
      "source": [
        "while True:\n",
        "  nombres= int(input('Introdueix quants nombres vols introduir: '))\n",
        "  if nombres>0:\n",
        "    break\n",
        "  else:\n",
        "    print('Aquesta quantitat no és vàlida.')\n",
        "\n",
        "comparacio =[]\n",
        "k=8\n",
        "for i in range(nombres):\n",
        "  numero = int(input('Introdueix un nombre: '))\n",
        "  comparacio.append(numero)\n",
        "  if numero<comparacio[i-1]:\n",
        "    print('El nombre que has introduït no és més gran que l´anterior, però gràcies.')\n",
        "    k=7\n",
        "    break\n",
        "  else:\n",
        "    continue\n",
        "\n",
        "if k==8:\n",
        "  print('Tots els nombres que has introduït han sigut més grans que els anteriors, gràcies!')"
      ],
      "metadata": {
        "id": "weqH9pEcyUgc"
      },
      "execution_count": null,
      "outputs": []
    },
    {
      "cell_type": "markdown",
      "source": [
        "Exercici 6) Escriviu un programa que demani dos nombres enters positius i escriviu la suma de\n",
        "tots els enters des del primer número fins al segon. Escriviu la suma realitzada\n",
        "mostrant tots el nombres."
      ],
      "metadata": {
        "id": "AoE-CKrZyls5"
      }
    },
    {
      "cell_type": "code",
      "source": [
        "j = 9\n",
        "w = 6\n",
        "while j == 9:\n",
        "  try: \n",
        "    while w == 6:\n",
        "      nombre1 = int(input('Introdueix un nombre enter positiu: '))\n",
        "      nombre2 = int(input('Introdueix un altre nombre enter positiu: '))\n",
        "      if nombre1>0 and nombre2>0:\n",
        "        if nombre2>nombre1:\n",
        "          w=5\n",
        "        else:\n",
        "          print('El primer nombre introduït ha de ser més petit que el segon.')\n",
        "      else:\n",
        "        print('Aquests nombre no són vàlids.')\n",
        "    suma=0\n",
        "    for i in range(nombre1, nombre2):\n",
        "      suma= suma+i\n",
        "      print(str(i)+'+', end='')\n",
        "    print(nombre2, '=', suma+nombre2)\n",
        "    j=8\n",
        "  except: \n",
        "    print('Aquest nombre no és vàlid.')"
      ],
      "metadata": {
        "id": "5CG14F2yy0Tt"
      },
      "execution_count": null,
      "outputs": []
    },
    {
      "cell_type": "markdown",
      "source": [
        "Exercici 7) Escriviu un programa que pregunti quants números s&#39;introduiran, demaneu aquests\n",
        "números, i escriviu el major, el menor i la mitjana aritmètica."
      ],
      "metadata": {
        "id": "_TOY_4g514xj"
      }
    },
    {
      "cell_type": "code",
      "source": [
        "while True:\n",
        "  try:\n",
        "    introduccio = int(input('Quants nombres vols introduir? '))\n",
        "    nombres = []\n",
        "    suma = 0\n",
        "    for i in range(introduccio):\n",
        "      lo = int(input('Introdueix un nombre:'))\n",
        "      nombres.append(lo)\n",
        "    ordenat = sorted(nombres)\n",
        "    for j in nombres:\n",
        "      suma= suma+j\n",
        "    print('La mitjana aritmètica d´aquests nombres és:', round(suma/introduccio, 2), 'El nombre més petit és', min(ordenat), 'i el més gran és', max(ordenat))\n",
        "    break\n",
        "  except:\n",
        "    print('Aquest nombre no és vàlid.')"
      ],
      "metadata": {
        "id": "f_GjYeQf1_Ry"
      },
      "execution_count": null,
      "outputs": []
    },
    {
      "cell_type": "markdown",
      "source": [
        "Exercici 8) Donat un número, compteu el nombre total de dígits d&#39;un número. Per exemple, el\n",
        "número és 75869, de manera que la sortida hauria de ser 5."
      ],
      "metadata": {
        "id": "yE6TDLtQ5uzm"
      }
    },
    {
      "cell_type": "code",
      "source": [
        "while True:\n",
        "  try: \n",
        "    numero = int(input('Introdueix un nombre: '))\n",
        "    nombre =str(numero)\n",
        "    print('Aquest nombre té', len(nombre), 'dígits.')\n",
        "    break\n",
        "  except:\n",
        "    print('Aquest nombre no és vàlid.f')"
      ],
      "metadata": {
        "id": "8ky0BNtD53b8"
      },
      "execution_count": null,
      "outputs": []
    },
    {
      "cell_type": "markdown",
      "source": [
        "Exercici 9) El sistema genera aleatòriament un número de l&#39;1 al 100.\n",
        "L&#39;usuari té un total de 5 possibilitats d&#39;endevinar el número.\n",
        "Si el número endevinat per l&#39;usuari és més gran que el número donat pel sistema,\n",
        "imprimiu &quot;massa gran&quot;.\n",
        "Si el número endevinat per l&#39;usuari és menor que el número proporcionat pel\n",
        "sistema, imprimiu &quot;massa petit&quot;.\n",
        "Si el número endevinat per l&#39;usuari és igual al número donat pel sistema, imprimiu\n",
        "&quot;Felicitacions&quot; i sortiu del bucle.\n",
        "Si gastem les cinc oportunitats i no encertem el número, imprimirem: &quot;Has perdut&quot; i\n",
        "el programa finalitzarà"
      ],
      "metadata": {
        "id": "VHjTDQ3nsLUa"
      }
    },
    {
      "cell_type": "code",
      "execution_count": null,
      "metadata": {
        "id": "xFllxQWTrmS8"
      },
      "outputs": [],
      "source": [
        "import random\n",
        "rand = random.randint(1, 100)\n",
        "correcte = False\n",
        "for i in range(5):\n",
        "  nombre = int(input('Endevina el nombre: '))\n",
        "  if nombre > rand:\n",
        "    print('Massa gran.')\n",
        "    continue\n",
        "\n",
        "  elif nombre < rand:\n",
        "    print('Massa petit.')\n",
        "    continue\n",
        "  \n",
        "  else:\n",
        "    print('Correcte. Felicitats!')\n",
        "    print('Aconseguit en', i+1, 'intents')\n",
        "    correcte =True\n",
        "    break\n",
        "  \n",
        "if correcte!= True:\n",
        "  print('Has perdut. Torna a provar. El nombre a endevinar era', rand)"
      ]
    },
    {
      "cell_type": "markdown",
      "source": [
        "Exercici 10) Escriviu un programa que demani una frase i una vocal. A continuació substituïu\n",
        "totes les vocals de la frase per la vocal triada i mostri el resultat per pantalla.\n",
        "\n",
        "***En el programa he posat una funció que transformi els accents que hi ha al castellà en les vocals sense res, perquè també puguin ser substituïdes.***"
      ],
      "metadata": {
        "id": "zEfjj_T36RXu"
      }
    },
    {
      "cell_type": "code",
      "source": [
        "original = str(input('Introduce un texto: '))\n",
        "vocal = str(input('Escribe una vocal: '))\n",
        "vocales = ['a', 'e', 'i', 'o', 'u']\n",
        "def vocals(a):\n",
        "  text = a.replace('ó', 'o')\n",
        "  text = text.replace('á', 'a')\n",
        "  text = text.replace('í', 'i')\n",
        "  text = text.replace('é', 'e')\n",
        "  text = text.replace('ú', 'u')\n",
        "  text = text.replace('ü', 'u')\n",
        "  return text\n",
        "text = vocals(original.lower())\n",
        "for i in vocales:\n",
        "  text = text.replace(i, vocal)\n",
        "print(text)"
      ],
      "metadata": {
        "colab": {
          "base_uri": "https://localhost:8080/"
        },
        "id": "3zYFUEjR9Sui",
        "outputId": "8023424d-2f0f-4bb2-96bc-ed433f7144d3"
      },
      "execution_count": null,
      "outputs": [
        {
          "output_type": "stream",
          "name": "stdout",
          "text": [
            "Introduce un texto: buenos días, qué tal?\n",
            "Escribe una vocal: i\n",
            "biinis diis, qii til?\n"
          ]
        }
      ]
    }
  ]
}