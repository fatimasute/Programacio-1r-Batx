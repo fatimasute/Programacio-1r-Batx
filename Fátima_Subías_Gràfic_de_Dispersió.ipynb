{
  "nbformat": 4,
  "nbformat_minor": 0,
  "metadata": {
    "colab": {
      "provenance": []
    },
    "kernelspec": {
      "name": "python3",
      "display_name": "Python 3"
    },
    "language_info": {
      "name": "python"
    }
  },
  "cells": [
    {
      "cell_type": "markdown",
      "source": [
        "Gràfic de dispersió mitjançant 'scatter' als bucles i  sense l'aproximació del nombre Pi."
      ],
      "metadata": {
        "id": "C-hWLEy-whwe"
      }
    },
    {
      "cell_type": "code",
      "execution_count": null,
      "metadata": {
        "id": "xQo6rjq1__3Y"
      },
      "outputs": [],
      "source": [
        "import numpy as np\n",
        "import matplotlib.pyplot as plt\n",
        "\n",
        "x = np.random.rand(1500)*2 - 1   #el nombre entre () és nombre de components del vector\n",
        "y = np.random.rand(1500)*2 - 1\n",
        "\n",
        "\n",
        "'''#Per generar un vector:\n",
        "np.linspace(1, 10, 100)\n",
        "np.linspace(0, 0, 0) #perquè estigui buit.''' \n",
        " \n",
        "plt.figure(figsize=(7, 7))\n",
        "for i in range(1500):\n",
        "  h = (x[i]**2 + y[i]**2)**0.5\n",
        "  if h<1:\n",
        "    plt.scatter(x[i],y[i], s=10, c='b')\n",
        "  else:\n",
        "    plt.scatter(x[i], y[i], s=10, c='r')\n",
        "\n",
        "plt.axhline(y=0, color = 'black')\n",
        "plt.axvline(x=0, color = 'black')\n",
        "plt.show()\n"
      ]
    },
    {
      "cell_type": "markdown",
      "source": [
        "Gràfic de disperió amb quatre vectors i amb l'aporixmació del nombre Pi.\n"
      ],
      "metadata": {
        "id": "0N6giAAKw5H9"
      }
    },
    {
      "cell_type": "code",
      "execution_count": null,
      "metadata": {
        "id": "mL4GmsNaPc7n"
      },
      "outputs": [],
      "source": [
        "import numpy as np\n",
        "import matplotlib.pyplot as plt\n",
        "\n",
        "punts = int(input(\"Quants punts vols que es generin? \"))\n",
        "\n",
        "x = np.random.rand(punts)*2 - 1   #el nombre entre () és nombre de components del vector\n",
        "y = np.random.rand(punts)*2 - 1\n",
        "\n",
        "xin = np.linspace(0, 0, 0)\n",
        "yin = np.linspace(0, 0, 0)\n",
        "\n",
        "xout = np.linspace(0, 0, 0)\n",
        "yout = np.linspace(0, 0, 0)\n",
        "\n",
        "\n",
        "'''#Per generar un vector:\n",
        "np.linspace(1, 10, 100)\n",
        "np.linspace(0, 0, 0) #perquè estigui buit.''' \n",
        " \n",
        "plt.figure(figsize=(7, 7))\n",
        "\n",
        "for i in range(punts):\n",
        "  h = (x[i]**2 + y[i]**2)**0.5\n",
        "  if h<1:\n",
        "    xin = np.append(xin, x[i])\n",
        "    yin = np.append(yin, y[i])\n",
        "  else:\n",
        "    xout = np.append(xout, x[i])\n",
        "    yout = np.append(yout, y[i])\n",
        "\n",
        "\n",
        "pi = (4 * len(xin)) / punts\n",
        "\n",
        "tit = '\\nAPROXIMACIÓ DE π:  ' +str(pi)+'\\n'\n",
        "plt.title(tit, fontsize = 25, color = 'purple')\n",
        "\n",
        "plt.scatter(xin, yin, s=1, c='orange')\n",
        "plt.scatter(xout, yout, s=1, c='red')\n",
        "plt.axhline(y=0, color = 'black')\n",
        "plt.axvline(x=0, color = 'black')\n",
        "plt.show()\n",
        "\n",
        "\n",
        "\n",
        "\n"
      ]
    },
    {
      "cell_type": "markdown",
      "source": [
        "Gràfic de dispersió amb quatre vectors, amb l'aporixmació del nombre Pi i amb punts que van apreixent."
      ],
      "metadata": {
        "id": "S_Vz2ZTM1tWH"
      }
    },
    {
      "cell_type": "code",
      "execution_count": null,
      "metadata": {
        "id": "7E8D48iHy45M"
      },
      "outputs": [],
      "source": [
        "import numpy as np\n",
        "import matplotlib.pyplot as plt\n",
        "from IPython.core.display import clear_output\n",
        "\n",
        "punts = int(input(\"Quants punts vols que es generin? \"))\n",
        "velocitat = int(input(\"A quina velocitat vols que es mostrin els punts? \"))\n",
        "\n",
        "xin = np.linspace(0, 0, 0)\n",
        "yin = np.linspace(0, 0, 0)\n",
        "\n",
        "xout = np.linspace(0, 0, 0)\n",
        "yout = np.linspace(0, 0, 0)\n",
        "\n",
        "for i in range(punts):\n",
        "  x = np.random.rand()*2 - 1   #el nombre entre () és nombre de components del vector\n",
        "  y = np.random.rand()*2 - 1\n",
        "\n",
        "\n",
        "  h = (x**2 + y**2)**0.5\n",
        "  if h<1:\n",
        "    xin = np.append(xin, x)\n",
        "    yin = np.append(yin, y)\n",
        "  else:\n",
        "    xout = np.append(xout, x)\n",
        "    yout = np.append(yout, y)\n",
        "\n",
        "\n",
        "  '''#Per generar un vector:\n",
        "  np.linspace(1, 10, 100)\n",
        "  np.linspace(0, 0, 0) #perquè estigui buit.''' \n",
        "\n",
        "  if i%velocitat == 0:    \n",
        "    pi = (4 * len(xin)) / (i+1)\n",
        "    plt.figure(figsize=(7, 7))\n",
        "    tit = '\\nAPROXIMACIÓ DE π:  ' + str(pi)+'\\n'\n",
        "    plt.title(tit, fontsize = 25, color = 'green')\n",
        "    plt.axhline(y=0, color = 'black')\n",
        "    plt.axvline(x=0, color = 'black')\n",
        "    plt.scatter(xin, yin, s=1, c='orange')\n",
        "    plt.scatter(xout, yout, s=1, c='red')\n",
        "    clear_output(wait=True)\n",
        "    plt.show()\n",
        "\n",
        "\n",
        "\n",
        "\n"
      ]
    },
    {
      "cell_type": "markdown",
      "source": [
        "Gràfic de dispersió amb quatre vectors, amb l'aproximació del nombre pi i amb punts que van apareixent i la mida dels quals va disminuint."
      ],
      "metadata": {
        "id": "PFfXbFsD_2tI"
      }
    },
    {
      "cell_type": "code",
      "execution_count": null,
      "metadata": {
        "id": "dBwykQGT8vmj"
      },
      "outputs": [],
      "source": [
        "import numpy as np\n",
        "import matplotlib.pyplot as plt\n",
        "from IPython.core.display import clear_output\n",
        "\n",
        "punts = int(input(\"Quants punts vols que es generin? \"))\n",
        "velocitat = int(input(\"A quina velocitat vols que es mostrin els punts? \"))\n",
        "\n",
        "xin = np.linspace(0, 0, 0)\n",
        "yin = np.linspace(0, 0, 0)\n",
        "\n",
        "xout = np.linspace(0, 0, 0)\n",
        "yout = np.linspace(0, 0, 0)\n",
        "\n",
        "mida = 100\n",
        "prop = punts / velocitat\n",
        "\n",
        "\n",
        "for i in range(punts):\n",
        "  x = np.random.rand()*2 - 1   #el nombre entre () és nombre de components del vector\n",
        "  y = np.random.rand()*2 - 1\n",
        "\n",
        "\n",
        "  h = (x**2 + y**2)**0.5\n",
        "  if h<1:\n",
        "    xin = np.append(xin, x)\n",
        "    yin = np.append(yin, y)\n",
        "  else:\n",
        "    xout = np.append(xout, x)\n",
        "    yout = np.append(yout, y)\n",
        "\n",
        "  mida = mida - 100/punts \n",
        "  if mida<=1:\n",
        "      mida == 1\n",
        "\n",
        "\n",
        "\n",
        "  '''#Per generar un vector:\n",
        "  np.linspace(1, 10, 100)\n",
        "  np.linspace(0, 0, 0) #perquè estigui buit.''' \n",
        "\n",
        "  if i%velocitat == 0:\n",
        "    if mida<=1:\n",
        "      mida == 1\n",
        "    print(mida)\n",
        "    pi = (4 * len(xin)) / (i+1)\n",
        "    plt.figure(figsize=(7, 7))\n",
        "    tit = '\\nAPROXIMACIÓ DE π:  ' + str(pi)+'\\n'\n",
        "    plt.title(tit, fontsize = 25, color = 'green')\n",
        "    circ = plt.Circle((0,0), 1, color= 'black', fill=False)    \n",
        "    plt.axhline(y=0, color = 'black')\n",
        "    plt.axvline(x=0, color = 'black')\n",
        "    plt.scatter(xin, yin, s=mida, c='orange')\n",
        "    plt.scatter(xout, yout, s=mida, c='red')\n",
        "    clear_output(wait=True)\n",
        "    plt.show()\n",
        "\n",
        "\n",
        "\n",
        "\n"
      ]
    }
  ]
}