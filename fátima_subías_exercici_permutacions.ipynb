{
  "nbformat": 4,
  "nbformat_minor": 0,
  "metadata": {
    "colab": {
      "provenance": []
    },
    "kernelspec": {
      "name": "python3",
      "display_name": "Python 3"
    },
    "language_info": {
      "name": "python"
    }
  },
  "cells": [
    {
      "cell_type": "markdown",
      "source": [
        "Codi per permutar 4 butaques."
      ],
      "metadata": {
        "id": "uxWS78sjC5Sf"
      }
    },
    {
      "cell_type": "code",
      "execution_count": null,
      "metadata": {
        "colab": {
          "base_uri": "https://localhost:8080/"
        },
        "id": "LZgaVKdEC2of",
        "outputId": "b65f92db-c28d-42e9-c12f-0a59884e92c1"
      },
      "outputs": [
        {
          "output_type": "stream",
          "name": "stdout",
          "text": [
            "1 --> V=1 J=2 P=3 S=4\n",
            "2 --> V=1 J=2 P=4 S=3\n",
            "3 --> V=1 J=3 P=2 S=4\n",
            "4 --> V=1 J=3 P=4 S=2\n",
            "5 --> V=1 J=4 P=2 S=3\n",
            "6 --> V=1 J=4 P=3 S=2\n",
            "7 --> V=2 J=1 P=3 S=4\n",
            "8 --> V=2 J=1 P=4 S=3\n",
            "9 --> V=2 J=3 P=1 S=4\n",
            "10 --> V=2 J=3 P=4 S=1\n",
            "11 --> V=2 J=4 P=1 S=3\n",
            "12 --> V=2 J=4 P=3 S=1\n",
            "13 --> V=3 J=1 P=2 S=4\n",
            "14 --> V=3 J=1 P=4 S=2\n",
            "15 --> V=3 J=2 P=1 S=4\n",
            "16 --> V=3 J=2 P=4 S=1\n",
            "17 --> V=3 J=4 P=1 S=2\n",
            "18 --> V=3 J=4 P=2 S=1\n",
            "19 --> V=4 J=1 P=2 S=3\n",
            "20 --> V=4 J=1 P=3 S=2\n",
            "21 --> V=4 J=2 P=1 S=3\n",
            "22 --> V=4 J=2 P=3 S=1\n",
            "23 --> V=4 J=3 P=1 S=2\n",
            "24 --> V=4 J=3 P=2 S=1\n"
          ]
        }
      ],
      "source": [
        "i=0\n",
        "for V in range(1, 5):\n",
        "  for J in range (1, 5):\n",
        "    if J == V:\n",
        "      continue\n",
        "    for P in range(1, 5):\n",
        "      if P==V or P==J:\n",
        "        continue\n",
        "      for S in range(1, 5):\n",
        "        if S==V or S==J or S==P:\n",
        "          continue\n",
        "        i+=1\n",
        "        print(i, \"--> V=\"+str(V), \"J=\"+str(J), \"P=\"+ str(P), \"S=\"+str(S))\n",
        "    "
      ]
    }
  ]
}