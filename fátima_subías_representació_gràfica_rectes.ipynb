{
  "nbformat": 4,
  "nbformat_minor": 0,
  "metadata": {
    "colab": {
      "provenance": []
    },
    "kernelspec": {
      "name": "python3",
      "display_name": "Python 3"
    },
    "language_info": {
      "name": "python"
    }
  },
  "cells": [
    {
      "cell_type": "markdown",
      "source": [
        "Gràfic que demani els paràmetres per fer una funció. Les xmax i xmin es calculen automàticament.\n",
        "S'ha de fer el gràfic bonic visualment (afegir etiquetes, colors, eixos horitzontals i verticals, etc.)."
      ],
      "metadata": {
        "id": "nztcQeVQqQqS"
      }
    },
    {
      "cell_type": "code",
      "source": [
        "import numpy as np              \n",
        "from matplotlib import pyplot as plt\n",
        "\n",
        "a = int(input('Introdueix un paràmetre a per la funció y = ax + b : '))\n",
        "b = int(input('Introdueix un paràmetre b per la funció y = ax + b : '))\n",
        "\n",
        "#Càlcul xmin i xmax i quantes y es volen\n",
        "xmax = (-2*b)/a\n",
        "xmin = b/a\n",
        "x = np.linspace(xmin, xmax, 40)\n",
        "\n",
        "#Càlcul y\n",
        "y = a*x + b\n",
        "\n",
        "#Perquè apareixin els eixos\n",
        "plt.axhline(y=0, color = 'black', linestyle=\"-\")\n",
        "plt.axvline(x=0, color = 'black')\n",
        "\n",
        "#Establir la x màxima i mínima\n",
        "plt.xlim(min(xmin, xmax), max(xmin, xmax))\n",
        "\n",
        "#Customització\n",
        "plt.xlabel('Eix x', color = 'orange', fontsize = '22')\n",
        "plt.ylabel('Eix y', color = 'orange', fontsize = '22')\n",
        "tit = '\\ny = '+str(a)+\" x + \"+str(b)+'\\n'\n",
        "plt.title(tit, fontsize = 25, color = 'blue')\n",
        "\n",
        "plt.plot(x, y, color = 'purple', linestyle=\"--\")\n",
        "plt.show()"
      ],
      "metadata": {
        "colab": {
          "base_uri": "https://localhost:8080/",
          "height": 405
        },
        "id": "yEeP2hfF_Bfd",
        "outputId": "446d2ce2-fc71-4344-f077-ee8740e4b4c7"
      },
      "execution_count": null,
      "outputs": [
        {
          "name": "stdout",
          "output_type": "stream",
          "text": [
            "Introdueix un paràmetre a per la funció y = ax + b : -8\n",
            "Introdueix un paràmetre b per la funció y = ax + b : 7\n"
          ]
        },
        {
          "output_type": "display_data",
          "data": {
            "text/plain": [
              "<Figure size 432x288 with 1 Axes>"
            ],
            "image/png": "[encoded data removed]"
          },
          "metadata": {
            "needs_background": "light"
          }
        }
      ]
    },
    {
      "cell_type": "markdown",
      "source": [
        "A PARTIR D'AQUÍ TOT SÓN PROVES:"
      ],
      "metadata": {
        "id": "NXS8FkwMbPNq"
      }
    },
    {
      "cell_type": "code",
      "source": [
        "#PER AUTOREGULAR L´ESCALA:\n",
        "  #VECTORS: matrius d'una fila\n",
        "import numpy as np\n",
        "from matplotlib import pyplot as plt\n",
        "\n",
        "x = np.mat('1,2,3')\n",
        "x= x*3 + 2   #si li sumem 2 interpreta que estem sumant # 2, 2, 2\n",
        "print(x)"
      ],
      "metadata": {
        "colab": {
          "base_uri": "https://localhost:8080/"
        },
        "id": "WrGf8Yvs6oPO",
        "outputId": "3436b013-e8f9-40f1-b1fc-6bd1edd11e7a"
      },
      "execution_count": null,
      "outputs": [
        {
          "output_type": "stream",
          "name": "stdout",
          "text": [
            "[[ 5  8 11]]\n"
          ]
        }
      ]
    },
    {
      "cell_type": "code",
      "source": [
        "x= np.linspace(-4, 10, 30) #definim un vector de -4 a 10 amb 30 números\n",
        "y = x*3 + 5\n",
        "plt.plot(x, y)"
      ],
      "metadata": {
        "colab": {
          "base_uri": "https://localhost:8080/",
          "height": 282
        },
        "id": "dtc-o_4U8JjU",
        "outputId": "82f1bd90-3797-43d2-f628-76918567e297"
      },
      "execution_count": null,
      "outputs": [
        {
          "output_type": "execute_result",
          "data": {
            "text/plain": [
              "[<matplotlib.lines.Line2D at 0x7f66ece3b370>]"
            ]
          },
          "metadata": {},
          "execution_count": 10
        },
        {
          "output_type": "display_data",
          "data": {
            "text/plain": [
              "<Figure size 432x288 with 1 Axes>"
            ],
            "image/png": "[encoded data removed]"
          },
          "metadata": {
            "needs_background": "light"
          }
        }
      ]
    },
    {
      "cell_type": "code",
      "source": [
        "x = np.linspace(xmin, xmax, 10)\n",
        "y= a*x + b\n",
        "plt.axline()\n",
        "plt.xlim(min(xmin, xmax), xmax(xmin, xmax))\n",
        "plt.xlabel('x axis', fontsize =22)\n",
        "plt.ylabel('y axis', fontsize =22)\n",
        "\n",
        "tit = 'y=', \n"
      ],
      "metadata": {
        "id": "pBa_O_tm9Y5a"
      },
      "execution_count": null,
      "outputs": []
    }
  ]
}