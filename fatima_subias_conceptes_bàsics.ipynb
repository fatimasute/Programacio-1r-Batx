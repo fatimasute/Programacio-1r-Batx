{
  "nbformat": 4,
  "nbformat_minor": 0,
  "metadata": {
    "colab": {
      "provenance": []
    },
    "kernelspec": {
      "name": "python3",
      "display_name": "Python 3"
    },
    "language_info": {
      "name": "python"
    }
  },
  "cells": [
    {
      "cell_type": "markdown",
      "source": [
        "Exercici 1) Demana dos números a l’usuari. Guarda els números en variables i\n",
        "nomena-les ‘a’ i ‘b’ . Mostra els números per pantalla. Calcula la suma,\n",
        "resta, multiplicació i divisió dels dos nombres anteriors i mostra els\n",
        "resultats per pantalla."
      ],
      "metadata": {
        "id": "Wy_0AV4qg4VN"
      }
    },
    {
      "cell_type": "code",
      "execution_count": null,
      "metadata": {
        "id": "OSMpCSf8fuk2"
      },
      "outputs": [],
      "source": [
        "a = int(input('Introdueix un nombre:\\n'))\n",
        "b = int(input('Introdueix un altre nombre:\\n'))\n",
        "print('El número guardat a la variable a és', a)\n",
        "print('El número guardat a la variable b és', b)\n",
        "print('La seva suma és', a+b)\n",
        "print('La seva resta és', a-b)\n",
        "print('La seva multiplicació és', a*b)\n",
        "print('La seva divisió és', a/b)"
      ]
    },
    {
      "cell_type": "markdown",
      "source": [
        "Exercici 2) Escriu el codi que intercanvi les dues variables anteriors, fent \n",
        "servir una tercera variable ‘c’ . Mostra el valor de cada variable abans i després del canvi."
      ],
      "metadata": {
        "id": "uOyMGpfCiSNm"
      }
    },
    {
      "cell_type": "code",
      "source": [
        "a = int(input('Introdueix un nombre:\\n'))\n",
        "b = int(input('Introdueix un altre nombre:\\n'))\n",
        "\n",
        "temp = a\n",
        "a = b\n",
        "b = temp\n",
        "\n",
        "print('Abans del canvi:\\na=', b, '\\nb=', a, '\\nDesprés del canvi:\\na=', a, '\\nb=', b,)"
      ],
      "metadata": {
        "id": "dH2-S4cVisk1",
        "colab": {
          "base_uri": "https://localhost:8080/"
        },
        "outputId": "83f5f5a4-b822-4e51-caa3-7bc81fb7fd9b"
      },
      "execution_count": null,
      "outputs": [
        {
          "output_type": "stream",
          "name": "stdout",
          "text": [
            "Introdueix un nombre:\n",
            "7\n",
            "Introdueix un altre nombre:\n",
            "11\n",
            "Abans del canvi:\n",
            "a= 7 \n",
            "b= 11 \n",
            "Després del canvi:\n",
            "a= 11 \n",
            "b= 7\n"
          ]
        }
      ]
    },
    {
      "cell_type": "markdown",
      "source": [
        "Exercici 3) Escriu el codi que resolgui el següent càlcul amb les variables de l\n",
        "’exercici 2: a + b / 2 * (a + b)\n",
        "\n",
        "Ha d’anar mostrant els càlculs pas a pas mostrant els resultats parcials i\n",
        "finalment el resultat total de l’operació."
      ],
      "metadata": {
        "id": "XCWTVK3pivDo"
      }
    },
    {
      "cell_type": "code",
      "source": [
        "print('A continuació es farà el següent càlcul amb les variables intercanviades: a + b / 2 * (a + b)')\n",
        "\n",
        "a = int(input('Introdueix un nombre:\\n'))\n",
        "b = int(input('Introdueix un altre nombre:\\n'))\n",
        "\n",
        "print('Abans del canvi:\\na=', b, '\\nb=', a, '\\nDesprés del canvi:\\na=', a, '\\nb=', b,)\n",
        "\n",
        "temp = a\n",
        "a = b\n",
        "b = temp\n",
        "\n",
        "print('A continuació es farà el següent càlcul amb les variables intercanviades: a + b / 2 * (a + b)\\n- a+b=', a+b, '\\n- b/2=', b/2, '\\n- b/2 * (a+b)=', b/2, '*', a+b, '=', b/2*(a+b), '\\n- El resultat final és:', a + b / 2 * (a + b))\n"
      ],
      "metadata": {
        "id": "uBhdF2F8ueS5",
        "colab": {
          "base_uri": "https://localhost:8080/"
        },
        "outputId": "d656376f-b769-4c2f-de83-4a8b82e31e2b"
      },
      "execution_count": null,
      "outputs": [
        {
          "output_type": "stream",
          "name": "stdout",
          "text": [
            "A continuació es farà el següent càlcul amb les variables intercanviades: a + b / 2 * (a + b)\n",
            "Introdueix un nombre:\n",
            "3\n",
            "Introdueix un altre nombre:\n",
            "4\n",
            "Abans del canvi:\n",
            "a= 4 \n",
            "b= 3 \n",
            "Després del canvi:\n",
            "a= 3 \n",
            "b= 4\n",
            "A continuació es farà el següent càlcul amb les variables intercanviades: a + b / 2 * (a + b)\n",
            "- a+b= 7 \n",
            "- b/2= 1.5 \n",
            "- b/2 * (a+b)= 1.5 * 7 = 10.5 \n",
            "- El resultat final és: 14.5\n"
          ]
        }
      ]
    },
    {
      "cell_type": "markdown",
      "source": [
        "Exercici 4) Demana un número a l’usuari. Mostra el seu número anterior i posterior\n",
        "per pantalla."
      ],
      "metadata": {
        "id": "Jo8PWoZP4ZbV"
      }
    },
    {
      "cell_type": "code",
      "source": [
        "nombre = int(input('Intrdueix un nombre:\\n'))\n",
        "print('El nombre anterior és', nombre-1, 'i el posterior és', nombre+1)"
      ],
      "metadata": {
        "colab": {
          "base_uri": "https://localhost:8080/"
        },
        "id": "UVzB5d_j4hXo",
        "outputId": "636ca66f-e304-428d-e8e3-c685c42b626b"
      },
      "execution_count": null,
      "outputs": [
        {
          "output_type": "stream",
          "name": "stdout",
          "text": [
            "Intrdueix un nombre:\n",
            "435\n",
            "El nombre anterior és 434 i el posterior és 436\n"
          ]
        }
      ]
    },
    {
      "cell_type": "markdown",
      "source": [
        "Exercici 5) Demana 4 notes a l’usuari entre 0 i 10. Calcula i mostra la seva\n",
        "mitjana."
      ],
      "metadata": {
        "id": "YMIx4Tty48kX"
      }
    },
    {
      "cell_type": "code",
      "source": [
        "nota1 = float(input('Intrdueix la nota de matemàtiques:\\n'))\n",
        "nota2 = float(input('Intrdueix la nota de català:\\n'))\n",
        "nota3 = float(input('Intrdueix la nota de castellà:\\n'))\n",
        "nota4 = float(input('Introdueix la nota de música:\\n'))\n",
        "print('La teva mitjana del trimestre és', (nota1+nota2+nota3+nota4)/4)"
      ],
      "metadata": {
        "colab": {
          "base_uri": "https://localhost:8080/"
        },
        "id": "2QIunSPF4_0x",
        "outputId": "749aa76d-2660-44f4-b41f-a6f00b62b15d"
      },
      "execution_count": null,
      "outputs": [
        {
          "output_type": "stream",
          "name": "stdout",
          "text": [
            "Intrdueix la nota de matemàtiques:\n",
            "9.8\n",
            "Intrdueix la nota de català:\n",
            "6\n",
            "Intrdueix la nota de castellà:\n",
            "5.7\n",
            "Introdueix la nota de música:\n",
            "1.1\n",
            "La teva mitjana del trimestre és 5.65\n"
          ]
        }
      ]
    },
    {
      "cell_type": "markdown",
      "source": [
        "Exercici 6) Demana a l’usuari la base i alçada d’un rectangle i mostra el seu\n",
        "perímetre i l’àrea."
      ],
      "metadata": {
        "id": "iLvzq3_T5ss4"
      }
    },
    {
      "cell_type": "code",
      "source": [
        "base = float(input('Introdueix la base del rectangle:\\n'))\n",
        "alçada = float(input('Introdueix la seva alçada:\\n'))\n",
        "print('El perímetre del rectangle és', base*2+alçada*2)\n",
        "print('La seva àrea és', base*alçada)"
      ],
      "metadata": {
        "id": "ESg1ioKz502B",
        "colab": {
          "base_uri": "https://localhost:8080/"
        },
        "outputId": "79cb6a5f-40fe-4117-95c6-75eba481f686"
      },
      "execution_count": null,
      "outputs": [
        {
          "output_type": "stream",
          "name": "stdout",
          "text": [
            "Introdueix la base del rectangle:\n",
            "4\n",
            "Introdueix la seva alçada:\n",
            "5\n",
            "El perímetre del rectangle és 18.0\n",
            "La seva àrea és 20.0\n"
          ]
        }
      ]
    },
    {
      "cell_type": "markdown",
      "source": [
        "Exercici 7) Demana una quantitat de minuts i mostra per pantalla a quantes hores\n",
        "i minuts correspon. Per exemple: 1000 minuts són 16 hores i 40 minuts."
      ],
      "metadata": {
        "id": "6nULsnvc5vXL"
      }
    },
    {
      "cell_type": "code",
      "source": [
        "minuts = int(input('Introdueix una quantitat de minuts:\\n'))\n",
        "hores = minuts//60\n",
        "dew = minuts%60\n",
        "print(minuts, 'minuts', 'són', hores, 'hores', 'i', dew, 'minuts')"
      ],
      "metadata": {
        "id": "4soqdCuh50a9",
        "colab": {
          "base_uri": "https://localhost:8080/"
        },
        "outputId": "7db8b6f7-cb64-4d99-bf32-b411f1aabd0e"
      },
      "execution_count": null,
      "outputs": [
        {
          "output_type": "stream",
          "name": "stdout",
          "text": [
            "Introdueix una quantitat de minuts:\n",
            "45\n",
            "45 minuts són 0 hores i 45 minuts\n"
          ]
        }
      ]
    },
    {
      "cell_type": "markdown",
      "source": [
        "Exercici 8) Demana una hora a l’usuari entre 0 i 23. Demana que indiqui un minut, entre 0 i 59. Per últim demana els segons, entre 0 i 59. Mostra l ’hora\n",
        "introduïda i mostra posteriorment l’equivalent en segons."
      ],
      "metadata": {
        "id": "3iCoNPZ152qL"
      }
    },
    {
      "cell_type": "code",
      "source": [
        "hora = int(input('Introdueix una hora (entre 0-23):\\n'))\n",
        "minut = int(input('Introdueix un minut (entre 0-59):\\n'))\n",
        "segon = int(input('Introdueix un segon (entre 0-59):\\n'))\n",
        "total = hora*(60**2) + minut * 60 + segon\n",
        "print('L´hora introduïda és', str(hora)+':'+str(minut)+':'+str(segon), 'que equival a', total, 'segons.')"
      ],
      "metadata": {
        "id": "pCulb2TP4THV"
      },
      "execution_count": null,
      "outputs": []
    },
    {
      "cell_type": "markdown",
      "source": [
        "Exercici 9) Un gamer gasta el seu pressupost mensual amb la següent distribució:\n",
        "\n",
        "- 15% menjar / sopar a domicili\n",
        "- 60% jocs nous \n",
        "- 25% material otaku\n",
        "\n",
        "Demana el pressupostdel mes i mostra quants diners gastarà en cada\n",
        "cosa."
      ],
      "metadata": {
        "id": "Oq99XnlWsJ9q"
      }
    },
    {
      "cell_type": "code",
      "source": [
        "presupost = float(input('Quin és el presupost del mes?\\n'))\n",
        "print('Has gastat', round((presupost * 0.15), 2), 'en menjar.\\nHas gastat', round((presupost*0.6), 2), 'en jocs.\\nHas gastat', round((presupost*0.25), 2), 'en material otaku.' )"
      ],
      "metadata": {
        "colab": {
          "base_uri": "https://localhost:8080/"
        },
        "id": "6qnOFwTPsdQh",
        "outputId": "e67049c6-a736-410b-9bae-557a8422e45b"
      },
      "execution_count": null,
      "outputs": [
        {
          "output_type": "stream",
          "name": "stdout",
          "text": [
            "Quin és el presupost del mes?\n",
            "560.4\n",
            "Has gastat 84.06 en menjar.\n",
            "Has gastat 336.24 en jocs.\n",
            "Has gastat 140.1 en material otaku.\n"
          ]
        }
      ]
    },
    {
      "cell_type": "markdown",
      "source": [
        "Exercici 10) Un usuari disposa de diners per comprar-se una peça de roba que està de rebaixes amb un 25% de descompte. \n",
        "Demana a l’usuari el diners que té i el preu de la peça. Mostra el preu que li quedarà amb el descompte i quants diners li quedaran després de fer la compra."
      ],
      "metadata": {
        "id": "kLtPCzFitfds"
      }
    },
    {
      "cell_type": "code",
      "source": [
        "while True:\n",
        "  diners = float(input('Introdueix de quants diners disposes: '))\n",
        "  roba = float(input('Introdueix el preu inicial de la peça de roba: '))\n",
        "  if diners<0 or roba<=0:\n",
        "    print('Aquest preu no és possible.\\n')\n",
        "  else: \n",
        "    if roba>diners:\n",
        "      print('No pots comprar aquesta peça, hauràs de treballar més...\\n')\n",
        "    else: \n",
        "      break\n",
        "\n",
        "print('Amb el 25% de descompte, la peça de roba et costarà', str(roba*0.75)+'€', 'i et sobraran', str(diners-(roba*0.75))+'€.')"
      ],
      "metadata": {
        "colab": {
          "base_uri": "https://localhost:8080/"
        },
        "id": "t0nXz1iNtorL",
        "outputId": "8d6062c4-db0b-4275-beba-22363a9ecdb1"
      },
      "execution_count": null,
      "outputs": [
        {
          "output_type": "stream",
          "name": "stdout",
          "text": [
            "Introdueix de quants diners disposes: 34\n",
            "Introdueix el preu inicial de la peça de roba: 4\n",
            "Amb el 25% de descompte, la peça de roba et costarà 3.0€ i et sobraran 31.0€.\n"
          ]
        }
      ]
    }
  ]
}